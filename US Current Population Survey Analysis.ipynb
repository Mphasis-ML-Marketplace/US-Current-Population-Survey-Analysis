{
 "cells": [
  {
   "cell_type": "markdown",
   "source": [
    "## Deploy US Current Population Survey Analysis Model Package from AWS Marketplace \r\n",
    "\r\n",
    "\r\n",
    "### The Current Population Survey (CPS) is a monthly survey of households conducted by the United States Census Bureau. It provides a comprehensive data, across geography and demographics, on the labor force, employment, wages, and job characteristics. This solution provides descriptive analysis and easy-to-understand visualization of the Basic Monthly CPS dataset: number of households, members per household, unemployment rate, employment population ratio, labor force participation, family income, non-response rate, employment details (hourly/weekly earnings, major occupation, industry) across geography (state, CSA, CBSA, county) and demographics (education, gender, race, age). This solution can assist government departments, policy consultants, and businesses to quickly generate key insights relevant to understand the U.S. economy. \r\n",
    "\r\n",
    "\r\n",
    "This sample notebook shows you how to deploy [US Current Population Survey Analysis](https://aws.amazon.com/marketplace/pp/prodview-2ys62bfulqtr6) using Amazon SageMaker.\r\n",
    "\r\n",
    "> **Note**: This is a reference notebook and it cannot run unless you make changes suggested in the notebook.\r\n",
    "\r\n",
    "#### Pre-requisites:\r\n",
    "1. **Note**: This notebook contains elements which render correctly in Jupyter interface. Open this notebook from an Amazon SageMaker Notebook Instance or Amazon SageMaker Studio.\r\n",
    "1. Ensure that IAM role used has **AmazonSageMakerFullAccess**\r\n",
    "1. To deploy this ML model successfully, ensure that:\r\n",
    "    1. Either your IAM role has these three permissions and you have authority to make AWS Marketplace subscriptions in the AWS account used: \r\n",
    "        1. **aws-marketplace:ViewSubscriptions**\r\n",
    "        1. **aws-marketplace:Unsubscribe**\r\n",
    "        1. **aws-marketplace:Subscribe**  \r\n",
    "    2. or your AWS account has a subscription to [US Current Population Survey Analysis](https://aws.amazon.com/marketplace/pp/prodview-2ys62bfulqtr6). If so, skip step: [Subscribe to the model package](#1.-Subscribe-to-the-model-package)\r\n",
    "\r\n",
    "#### Contents:\r\n",
    "1. [Subscribe to the model package](#1.-Subscribe-to-the-model-package)\r\n",
    "2. [Create an endpoint and perform real-time inference](#2.-Create-an-endpoint-and-perform-real-time-inference)\r\n",
    "   1. [Create an endpoint](#A.-Create-an-endpoint)\r\n",
    "   2. [Create input payload](#B.-Create-input-payload)\r\n",
    "   3. [Perform real-time inference](#C.-Perform-real-time-inference)\r\n",
    "   4. [Visualize output](#D.-Visualize-output)\r\n",
    "   5. [Delete the endpoint](#E.-Delete-the-endpoint)\r\n",
    "3. [Perform batch inference](#3.-Perform-batch-inference) \r\n",
    "4. [Clean-up](#4.-Clean-up)\r\n",
    "    1. [Delete the model](#A.-Delete-the-model)\r\n",
    "    2. [Unsubscribe to the listing (optional)](#B.-Unsubscribe-to-the-listing-(optional))\r\n",
    "    \r\n",
    "\r\n",
    "#### Usage instructions\r\n",
    "You can run this notebook one cell at a time (By using Shift+Enter for running a cell)."
   ],
   "metadata": {}
  },
  {
   "cell_type": "markdown",
   "source": [
    "### 1. Subscribe to the model package"
   ],
   "metadata": {}
  },
  {
   "cell_type": "markdown",
   "source": [
    "To subscribe to the model package:\r\n",
    "1. Open the model package listing page [US Current Population Survey Analysis](https://aws.amazon.com/marketplace/pp/prodview-2ys62bfulqtr6).\r\n",
    "1. On the AWS Marketplace listing, click on the **Continue to subscribe** button.\r\n",
    "1. On the **Subscribe to this software** page, review and click on **\"Accept Offer\"** if you and your organization agrees with EULA, pricing, and support terms. \r\n",
    "1. Once you click on **Continue to configuration button** and then choose a **region**, you will see a **Product Arn** displayed. This is the model package ARN that you need to specify while creating a deployable model using Boto3. Copy the ARN corresponding to your region and specify the same in the following cell."
   ],
   "metadata": {}
  },
  {
   "cell_type": "code",
   "execution_count": 1,
   "source": [
    "model_package_arn='monthly-cps'"
   ],
   "outputs": [],
   "metadata": {}
  },
  {
   "cell_type": "code",
   "execution_count": 2,
   "source": [
    "import base64\r\n",
    "import json \r\n",
    "import uuid\r\n",
    "from sagemaker import ModelPackage\r\n",
    "import sagemaker as sage\r\n",
    "from sagemaker import get_execution_role\r\n",
    "from sagemaker import ModelPackage\r\n",
    "from urllib.parse import urlparse\r\n",
    "import boto3\r\n",
    "from IPython.display import Image\r\n",
    "from PIL import Image as ImageEdit\r\n",
    "import urllib.request\r\n",
    "import numpy as np"
   ],
   "outputs": [],
   "metadata": {}
  },
  {
   "cell_type": "code",
   "execution_count": 3,
   "source": [
    "role = get_execution_role()\r\n",
    "\r\n",
    "sagemaker_session = sage.Session()\r\n",
    "\r\n",
    "bucket=sagemaker_session.default_bucket()\r\n",
    "bucket"
   ],
   "outputs": [
    {
     "output_type": "execute_result",
     "data": {
      "text/plain": [
       "'sagemaker-us-east-2-786796469737'"
      ]
     },
     "metadata": {},
     "execution_count": 3
    }
   ],
   "metadata": {}
  },
  {
   "cell_type": "markdown",
   "source": [
    "### 2. Create an endpoint and perform real-time inference"
   ],
   "metadata": {}
  },
  {
   "cell_type": "markdown",
   "source": [
    "If you want to understand how real-time inference with Amazon SageMaker works, see [Documentation](https://docs.aws.amazon.com/sagemaker/latest/dg/how-it-works-hosting.html)."
   ],
   "metadata": {}
  },
  {
   "cell_type": "code",
   "execution_count": 4,
   "source": [
    "model_name='monthly-cps'\r\n",
    "\r\n",
    "content_type='application/zip'\r\n",
    "\r\n",
    "real_time_inference_instance_type='ml.m5.large'\r\n",
    "batch_transform_inference_instance_type='ml.m5.large'"
   ],
   "outputs": [],
   "metadata": {}
  },
  {
   "cell_type": "markdown",
   "source": [
    "#### A. Create an endpoint"
   ],
   "metadata": {}
  },
  {
   "cell_type": "code",
   "execution_count": 5,
   "source": [
    "\r\n",
    "def predict_wrapper(endpoint, session):\r\n",
    "    return sage.predictor.Predictor(endpoint, session,content_type)\r\n",
    "\r\n",
    "#create a deployable model from the model package.\r\n",
    "model = ModelPackage(role=role,\r\n",
    "                    model_package_arn=model_package_arn,\r\n",
    "                    sagemaker_session=sagemaker_session,\r\n",
    "                    predictor_cls=predict_wrapper)\r\n",
    "\r\n",
    "#Deploy the model\r\n",
    "predictor = model.deploy(1, real_time_inference_instance_type, endpoint_name=model_name)"
   ],
   "outputs": [
    {
     "output_type": "stream",
     "name": "stdout",
     "text": [
      "----!"
     ]
    }
   ],
   "metadata": {}
  },
  {
   "cell_type": "markdown",
   "source": [
    "Once endpoint has been created, you would be able to perform real-time inference."
   ],
   "metadata": {}
  },
  {
   "cell_type": "markdown",
   "source": [
    "#### B. Create input payload"
   ],
   "metadata": {}
  },
  {
   "cell_type": "code",
   "execution_count": 6,
   "source": [
    "file_name = './Input/input.zip'"
   ],
   "outputs": [],
   "metadata": {}
  },
  {
   "cell_type": "markdown",
   "source": [
    "#### C. Perform real-time inference"
   ],
   "metadata": {}
  },
  {
   "cell_type": "code",
   "execution_count": 8,
   "source": [
    "!aws sagemaker-runtime invoke-endpoint \\\r\n",
    "    --endpoint-name $model_name \\\r\n",
    "    --body fileb://$file_name \\\r\n",
    "    --content-type $content_type \\\r\n",
    "    --region $sagemaker_session.boto_region_name \\\r\n",
    "    output.zip"
   ],
   "outputs": [
    {
     "output_type": "stream",
     "name": "stdout",
     "text": [
      "{\r\n",
      "    \"ContentType\": \"application/zip\",\r\n",
      "    \"InvokedProductionVariant\": \"AllTraffic\"\r\n",
      "}\r\n"
     ]
    }
   ],
   "metadata": {}
  },
  {
   "cell_type": "markdown",
   "source": [
    "#### D. Visualize output"
   ],
   "metadata": {}
  },
  {
   "cell_type": "markdown",
   "source": [
    "Download zip and extract excel file to view the results"
   ],
   "metadata": {}
  },
  {
   "cell_type": "markdown",
   "source": [
    "#### E. Delete the endpoint"
   ],
   "metadata": {}
  },
  {
   "cell_type": "markdown",
   "source": [
    "Now that you have successfully performed a real-time inference, you do not need the endpoint any more. You can terminate the endpoint to avoid being charged."
   ],
   "metadata": {}
  },
  {
   "cell_type": "code",
   "execution_count": 9,
   "source": [
    "predictor=sage.predictor.Predictor(model_name, sagemaker_session,content_type)\r\n",
    "predictor.delete_endpoint(delete_endpoint_config=True)"
   ],
   "outputs": [],
   "metadata": {}
  },
  {
   "cell_type": "markdown",
   "source": [
    "### 3. Perform batch inference"
   ],
   "metadata": {}
  },
  {
   "cell_type": "markdown",
   "source": [
    "In this section, you will perform batch inference using multiple input payloads together. If you are not familiar with batch transform, and want to learn more, see these links:\n",
    "1. [How it works](https://docs.aws.amazon.com/sagemaker/latest/dg/ex1-batch-transform.html)\n",
    "2. [How to run a batch transform job](https://docs.aws.amazon.com/sagemaker/latest/dg/how-it-works-batch.html)"
   ],
   "metadata": {}
  },
  {
   "cell_type": "code",
   "execution_count": 11,
   "source": [
    "#upload the batch-transform job input files to S3\r\n",
    "transform_input_folder = \"Input\"\r\n",
    "transform_input = sagemaker_session.upload_data(transform_input_folder, key_prefix=model_name) \r\n",
    "print(\"Transform input uploaded to \" + transform_input)"
   ],
   "outputs": [
    {
     "output_type": "stream",
     "name": "stdout",
     "text": [
      "Transform input uploaded to s3://sagemaker-us-east-2-786796469737/monthly-cps\n"
     ]
    }
   ],
   "metadata": {}
  },
  {
   "cell_type": "code",
   "execution_count": 12,
   "source": [
    "#Run the batch-transform job\r\n",
    "transformer = model.transformer(1, batch_transform_inference_instance_type,max_payload=100)\r\n",
    "transformer.transform(transform_input, content_type=content_type)\r\n",
    "transformer.wait()"
   ],
   "outputs": [
    {
     "output_type": "stream",
     "name": "stdout",
     "text": [
      ".......................\u001b[34m * Serving Flask app 'serve' (lazy loading)\n",
      " * Environment: production\n",
      "   WARNING: This is a development server. Do not use it in a production deployment.\n",
      "   Use a production WSGI server instead.\n",
      " * Debug mode: on\n",
      " * Running on all addresses.\n",
      "   WARNING: This is a development server. Do not use it in a production deployment.\n",
      " * Running on http://169.254.255.131:8080/ (Press CTRL+C to quit)\n",
      " * Restarting with stat\n",
      " * Debugger is active!\n",
      " * Debugger PIN: 812-644-609\u001b[0m\n",
      "\u001b[35m * Serving Flask app 'serve' (lazy loading)\n",
      " * Environment: production\n",
      "   WARNING: This is a development server. Do not use it in a production deployment.\n",
      "   Use a production WSGI server instead.\n",
      " * Debug mode: on\n",
      " * Running on all addresses.\n",
      "   WARNING: This is a development server. Do not use it in a production deployment.\n",
      " * Running on http://169.254.255.131:8080/ (Press CTRL+C to quit)\n",
      " * Restarting with stat\n",
      " * Debugger is active!\n",
      " * Debugger PIN: 812-644-609\u001b[0m\n",
      "\u001b[34m169.254.255.130 - - [30/Sep/2021 11:57:20] \"GET /ping HTTP/1.1\" 200 -\u001b[0m\n",
      "\u001b[34m169.254.255.130 - - [30/Sep/2021 11:57:20] \"#033[33mGET /execution-parameters HTTP/1.1#033[0m\" 404 -\u001b[0m\n",
      "\u001b[35m169.254.255.130 - - [30/Sep/2021 11:57:20] \"GET /ping HTTP/1.1\" 200 -\u001b[0m\n",
      "\u001b[35m169.254.255.130 - - [30/Sep/2021 11:57:20] \"#033[33mGET /execution-parameters HTTP/1.1#033[0m\" 404 -\u001b[0m\n",
      "\u001b[32m2021-09-30T11:57:20.151:[sagemaker logs]: MaxConcurrentTransforms=1, MaxPayloadInMB=100, BatchStrategy=MULTI_RECORD\u001b[0m\n",
      "\n",
      "\u001b[34m * Serving Flask app 'serve' (lazy loading)\n",
      " * Environment: production\n",
      "   WARNING: This is a development server. Do not use it in a production deployment.\n",
      "   Use a production WSGI server instead.\n",
      " * Debug mode: on\n",
      " * Running on all addresses.\n",
      "   WARNING: This is a development server. Do not use it in a production deployment.\n",
      " * Running on http://169.254.255.131:8080/ (Press CTRL+C to quit)\n",
      " * Restarting with stat\n",
      " * Debugger is active!\n",
      " * Debugger PIN: 812-644-609\u001b[0m\n",
      "\u001b[35m * Serving Flask app 'serve' (lazy loading)\n",
      " * Environment: production\n",
      "   WARNING: This is a development server. Do not use it in a production deployment.\n",
      "   Use a production WSGI server instead.\n",
      " * Debug mode: on\n",
      " * Running on all addresses.\n",
      "   WARNING: This is a development server. Do not use it in a production deployment.\n",
      " * Running on http://169.254.255.131:8080/ (Press CTRL+C to quit)\n",
      " * Restarting with stat\n",
      " * Debugger is active!\n",
      " * Debugger PIN: 812-644-609\u001b[0m\n",
      "\u001b[34m169.254.255.130 - - [30/Sep/2021 11:57:20] \"GET /ping HTTP/1.1\" 200 -\u001b[0m\n",
      "\u001b[34m169.254.255.130 - - [30/Sep/2021 11:57:20] \"#033[33mGET /execution-parameters HTTP/1.1#033[0m\" 404 -\u001b[0m\n",
      "\u001b[35m169.254.255.130 - - [30/Sep/2021 11:57:20] \"GET /ping HTTP/1.1\" 200 -\u001b[0m\n",
      "\u001b[35m169.254.255.130 - - [30/Sep/2021 11:57:20] \"#033[33mGET /execution-parameters HTTP/1.1#033[0m\" 404 -\u001b[0m\n",
      "\u001b[32m2021-09-30T11:57:20.151:[sagemaker logs]: MaxConcurrentTransforms=1, MaxPayloadInMB=100, BatchStrategy=MULTI_RECORD\u001b[0m\n",
      "\u001b[34m169.254.255.131 - - [30/Sep/2021 11:57:27] \"GET /plotlygeojsonfile/plotly/topojson/usa_110m.json HTTP/1.1\" 200 -\u001b[0m\n",
      "\u001b[35m169.254.255.131 - - [30/Sep/2021 11:57:27] \"GET /plotlygeojsonfile/plotly/topojson/usa_110m.json HTTP/1.1\" 200 -\u001b[0m\n",
      "\u001b[34m169.254.255.130 - - [30/Sep/2021 11:57:44] \"POST /invocations HTTP/1.1\" 200 -\u001b[0m\n",
      "\u001b[35m169.254.255.130 - - [30/Sep/2021 11:57:44] \"POST /invocations HTTP/1.1\" 200 -\u001b[0m\n"
     ]
    }
   ],
   "metadata": {}
  },
  {
   "cell_type": "code",
   "execution_count": 13,
   "source": [
    "transformer.output_path"
   ],
   "outputs": [
    {
     "output_type": "execute_result",
     "data": {
      "text/plain": [
       "'s3://sagemaker-us-east-2-786796469737/monthly-cps-2021-09-30-11-53-39-555'"
      ]
     },
     "metadata": {},
     "execution_count": 13
    }
   ],
   "metadata": {}
  },
  {
   "cell_type": "code",
   "execution_count": 14,
   "source": [
    "import os\r\n",
    "s3_conn = boto3.client(\"s3\")\r\n",
    "with open('Output/output.zip', 'wb') as f:\r\n",
    "    s3_conn.download_fileobj(bucket, os.path.basename(transformer.output_path)+'/input.zip.out', f)\r\n",
    "    print(\"Output file loaded from bucket\")"
   ],
   "outputs": [
    {
     "output_type": "stream",
     "name": "stdout",
     "text": [
      "Output file loaded from bucket\n"
     ]
    }
   ],
   "metadata": {}
  },
  {
   "cell_type": "markdown",
   "source": [
    "Download zip and extract excel file to view the results"
   ],
   "metadata": {}
  },
  {
   "cell_type": "markdown",
   "source": [
    "### 4. Clean-up"
   ],
   "metadata": {}
  },
  {
   "cell_type": "markdown",
   "source": [
    "#### A. Delete the model"
   ],
   "metadata": {}
  },
  {
   "cell_type": "code",
   "execution_count": 15,
   "source": [
    "model.delete_model()"
   ],
   "outputs": [],
   "metadata": {}
  },
  {
   "cell_type": "markdown",
   "source": [
    "#### B. Unsubscribe to the listing (optional)"
   ],
   "metadata": {}
  },
  {
   "cell_type": "markdown",
   "source": [
    "If you would like to unsubscribe to the model package, follow these steps. Before you cancel the subscription, ensure that you do not have any [deployable model](https://console.aws.amazon.com/sagemaker/home#/models) created from the model package or using the algorithm. Note - You can find this information by looking at the container name associated with the model. \n",
    "\n",
    "**Steps to unsubscribe to product from AWS Marketplace**:\n",
    "1. Navigate to __Machine Learning__ tab on [__Your Software subscriptions page__](https://aws.amazon.com/marketplace/ai/library?productType=ml&ref_=mlmp_gitdemo_indust)\n",
    "2. Locate the listing that you want to cancel the subscription for, and then choose __Cancel Subscription__  to cancel the subscription.\n",
    "\n"
   ],
   "metadata": {}
  }
 ],
 "metadata": {
  "kernelspec": {
   "display_name": "conda_python3",
   "language": "python",
   "name": "conda_python3"
  },
  "language_info": {
   "codemirror_mode": {
    "name": "ipython",
    "version": 3
   },
   "file_extension": ".py",
   "mimetype": "text/x-python",
   "name": "python",
   "nbconvert_exporter": "python",
   "pygments_lexer": "ipython3",
   "version": "3.6.13"
  }
 },
 "nbformat": 4,
 "nbformat_minor": 2
}
